{
 "cells": [
  {
   "cell_type": "code",
   "execution_count": null,
   "metadata": {},
   "outputs": [],
   "source": [
    "d0={\n",
    "    'a': 1,\n",
    "    'b': 2,\n",
    "    'c': 3,\n",
    "}\n",
    "print(d0)"
   ]
  },
  {
   "cell_type": "code",
   "execution_count": null,
   "metadata": {},
   "outputs": [],
   "source": [
    "d1={\n",
    "    'v1': {\n",
    "        'a': 1,\n",
    "        'b': 2,\n",
    "        'c': 3,\n",
    "    },\n",
    "    'v2': {\n",
    "        'd': 4,\n",
    "        'e': 5,\n",
    "        'f': 6,\n",
    "    }\n",
    "}\n",
    "print(d1)"
   ]
  },
  {
   "cell_type": "code",
   "execution_count": null,
   "metadata": {},
   "outputs": [],
   "source": [
    "d2 = dict(\n",
    "    a=1,\n",
    "    b=2,\n",
    "    c=3,\n",
    ")\n",
    "print(d2)"
   ]
  },
  {
   "cell_type": "code",
   "execution_count": null,
   "metadata": {},
   "outputs": [],
   "source": [
    "d3 = dict(\n",
    "    d2.items()\n",
    ")\n",
    "print(d3)"
   ]
  },
  {
   "cell_type": "code",
   "execution_count": null,
   "metadata": {},
   "outputs": [],
   "source": [
    "d4 = dict(\n",
    "    v1=dict(a=1, b=2, c=3),\n",
    "    v2=dict(d=4, e=5, f=6),\n",
    ")\n",
    "print(d4)"
   ]
  },
  {
   "cell_type": "code",
   "execution_count": null,
   "metadata": {},
   "outputs": [],
   "source": [
    "d5 = dict(\n",
    "    (\n",
    "        (\"a\", 1), (\"b\", 32), (\"c\", 3)\n",
    "    )\n",
    ")\n",
    "print(d5)"
   ]
  },
  {
   "cell_type": "code",
   "execution_count": null,
   "metadata": {},
   "outputs": [],
   "source": [
    "d6 = dict(\n",
    "    v1=dict(((\"a\", 1), (\"b\", 32), (\"c\", 3))),\n",
    "    v2=dict(((\"d\", 4), (\"e\", 5), (\"f\", 6))),\n",
    ")\n",
    "print(d6)"
   ]
  },
  {
   "cell_type": "code",
   "execution_count": null,
   "metadata": {},
   "outputs": [],
   "source": [
    "d7 = {\n",
    "    key: value for key, value in ((\"a\", 1), (\"b\", 32), (\"c\", 3))\n",
    "}\n",
    "print(d7)"
   ]
  },
  {
   "cell_type": "code",
   "execution_count": null,
   "metadata": {},
   "outputs": [],
   "source": [
    "d8 = {\n",
    "    \"v1\": {\n",
    "        (\"a\", 1), (\"b\", 32), (\"c\", 3)\n",
    "    },\n",
    "    \"v2\": {\n",
    "        (\"d\", 4), (\"e\", 5), (\"f\", 6)\n",
    "    }\n",
    "}\n",
    "print(d8)"
   ]
  },
  {
   "cell_type": "code",
   "execution_count": null,
   "metadata": {},
   "outputs": [],
   "source": [
    "d9 = dict(\n",
    "    zip(\n",
    "        (\"a\", \"b\", \"c\"), (1, 2, 3)\n",
    "    )\n",
    ")\n",
    "print(d9)"
   ]
  },
  {
   "cell_type": "code",
   "execution_count": null,
   "metadata": {},
   "outputs": [],
   "source": [
    "d10 = dict(\n",
    "    zip(\n",
    "        (\"v1\", \"v2\"),\n",
    "        (\n",
    "            dict(zip((\"a\", \"b\", \"c\"), (1, 2, 3))),\n",
    "            dict(zip((\"d\", \"e\", \"f\"), (4, 5, 6))),\n",
    "        )\n",
    "    )\n",
    ")\n",
    "print(d10)"
   ]
  },
  {
   "cell_type": "code",
   "execution_count": null,
   "metadata": {},
   "outputs": [],
   "source": [
    "d11 = dict(\n",
    "    map(lambda key, value: (key, value), (\"a\", \"b\", \"c\"), (1, 2, 3))\n",
    ")\n",
    "print(d11)"
   ]
  },
  {
   "cell_type": "code",
   "execution_count": null,
   "metadata": {},
   "outputs": [],
   "source": [
    "d12 = {}\n",
    "exec(\n",
    "    \"d12 = dict(a = 1, b = 2, c = 3)\", locals()\n",
    ")\n",
    "print(d12)"
   ]
  },
  {
   "cell_type": "code",
   "execution_count": null,
   "metadata": {},
   "outputs": [],
   "source": [
    "d14 = eval(\n",
    "    # \"dict(a = 1, b = 2, c = 3, d = 4)\"\n",
    "    \"\"\"{'a': 1, 'b': 2, 'c': 3, 'd': 4}\"\"\"\n",
    ")\n",
    "print(d14)"
   ]
  },
  {
   "cell_type": "code",
   "execution_count": null,
   "metadata": {},
   "outputs": [],
   "source": [
    "from ast import literal_eval\n",
    "\n",
    "d15 = literal_eval(\n",
    "    # \"{'a': 1, 'b': 2, 'c': 3, 'd': '4'}\"\n",
    "    \"\"\"{'a': 1, 'b': 2, 'c': 3, 'd': '4'}\"\"\"\n",
    ")\n",
    "print(d15)"
   ]
  },
  {
   "cell_type": "code",
   "execution_count": null,
   "metadata": {},
   "outputs": [],
   "source": [
    "import json\n",
    "\n",
    "d16 = json.loads(\n",
    "    r\"\"\"{\"a\": 1, \"b\": 2, \"c\": 3, \"d\": \"4\"}\"\"\"\n",
    ")\n",
    "print(d16)"
   ]
  },
  {
   "cell_type": "code",
   "execution_count": 17,
   "metadata": {},
   "outputs": [],
   "source": [
    "fruit1 = ('Apple', 7800, 3.20)\n",
    "fruit2 = ('Orange', 4509, 2.70)\n",
    "fruits = [fruit1, fruit2]\n",
    "headers = [\"Fruit\", \"Quantity\", \"Price\"]\n",
    "dicts = { \"citrus\" , \"appleseed\"}"
   ]
  },
  {
   "cell_type": "code",
   "execution_count": null,
   "metadata": {},
   "outputs": [],
   "source": [
    "print(\"fruit1\", type(fruit1))\n",
    "print(\"fruit2\", type(fruit2))\n",
    "print(\"fruits\", type(fruits))\n",
    "print(\"headers\", type(headers))\n",
    "print(\"dictionary\", type(dicts))"
   ]
  },
  {
   "cell_type": "code",
   "execution_count": null,
   "metadata": {},
   "outputs": [],
   "source": [
    "data = [dict(zip(headers, row)) for row in fruits]\n",
    "print(\"data\", type(data))\n",
    "print(data)"
   ]
  }
 ],
 "metadata": {
  "kernelspec": {
   "display_name": ".venv",
   "language": "python",
   "name": "python3"
  },
  "language_info": {
   "codemirror_mode": {
    "name": "ipython",
    "version": 3
   },
   "file_extension": ".py",
   "mimetype": "text/x-python",
   "name": "python",
   "nbconvert_exporter": "python",
   "pygments_lexer": "ipython3",
   "version": "3.12.4"
  }
 },
 "nbformat": 4,
 "nbformat_minor": 2
}
