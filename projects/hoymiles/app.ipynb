{
 "cells": [
  {
   "cell_type": "code",
   "execution_count": 5,
   "metadata": {},
   "outputs": [
    {
     "ename": "ValueError",
     "evalue": "Mime type rendering requires nbformat>=4.2.0 but it is not installed",
     "output_type": "error",
     "traceback": [
      "\u001b[0;31m---------------------------------------------------------------------------\u001b[0m",
      "\u001b[0;31mValueError\u001b[0m                                Traceback (most recent call last)",
      "Cell \u001b[0;32mIn[5], line 34\u001b[0m\n\u001b[1;32m     31\u001b[0m fig\u001b[38;5;241m.\u001b[39madd_annotation(x\u001b[38;5;241m=\u001b[39mmean_x \u001b[38;5;241m+\u001b[39m \u001b[38;5;241m10\u001b[39m, y\u001b[38;5;241m=\u001b[39mmean_y \u001b[38;5;241m-\u001b[39m \u001b[38;5;241m20\u001b[39m, text\u001b[38;5;241m=\u001b[39m\u001b[38;5;124m\"\u001b[39m\u001b[38;5;124mQuadrante 4\u001b[39m\u001b[38;5;124m\"\u001b[39m, showarrow\u001b[38;5;241m=\u001b[39m\u001b[38;5;28;01mFalse\u001b[39;00m, font_size\u001b[38;5;241m=\u001b[39m\u001b[38;5;241m12\u001b[39m, font_color\u001b[38;5;241m=\u001b[39m\u001b[38;5;124m\"\u001b[39m\u001b[38;5;124mblack\u001b[39m\u001b[38;5;124m\"\u001b[39m)\n\u001b[1;32m     33\u001b[0m \u001b[38;5;66;03m# Exibir o gráfico\u001b[39;00m\n\u001b[0;32m---> 34\u001b[0m \u001b[43mfig\u001b[49m\u001b[38;5;241;43m.\u001b[39;49m\u001b[43mshow\u001b[49m\u001b[43m(\u001b[49m\u001b[43m)\u001b[49m\n",
      "File \u001b[0;32m~/Development/studies/python-studies/.venv/lib/python3.11/site-packages/plotly/basedatatypes.py:3414\u001b[0m, in \u001b[0;36mBaseFigure.show\u001b[0;34m(self, *args, **kwargs)\u001b[0m\n\u001b[1;32m   3381\u001b[0m \u001b[38;5;250m\u001b[39m\u001b[38;5;124;03m\"\"\"\u001b[39;00m\n\u001b[1;32m   3382\u001b[0m \u001b[38;5;124;03mShow a figure using either the default renderer(s) or the renderer(s)\u001b[39;00m\n\u001b[1;32m   3383\u001b[0m \u001b[38;5;124;03mspecified by the renderer argument\u001b[39;00m\n\u001b[0;32m   (...)\u001b[0m\n\u001b[1;32m   3410\u001b[0m \u001b[38;5;124;03mNone\u001b[39;00m\n\u001b[1;32m   3411\u001b[0m \u001b[38;5;124;03m\"\"\"\u001b[39;00m\n\u001b[1;32m   3412\u001b[0m \u001b[38;5;28;01mimport\u001b[39;00m \u001b[38;5;21;01mplotly\u001b[39;00m\u001b[38;5;21;01m.\u001b[39;00m\u001b[38;5;21;01mio\u001b[39;00m \u001b[38;5;28;01mas\u001b[39;00m \u001b[38;5;21;01mpio\u001b[39;00m\n\u001b[0;32m-> 3414\u001b[0m \u001b[38;5;28;01mreturn\u001b[39;00m \u001b[43mpio\u001b[49m\u001b[38;5;241;43m.\u001b[39;49m\u001b[43mshow\u001b[49m\u001b[43m(\u001b[49m\u001b[38;5;28;43mself\u001b[39;49m\u001b[43m,\u001b[49m\u001b[43m \u001b[49m\u001b[38;5;241;43m*\u001b[39;49m\u001b[43margs\u001b[49m\u001b[43m,\u001b[49m\u001b[43m \u001b[49m\u001b[38;5;241;43m*\u001b[39;49m\u001b[38;5;241;43m*\u001b[39;49m\u001b[43mkwargs\u001b[49m\u001b[43m)\u001b[49m\n",
      "File \u001b[0;32m~/Development/studies/python-studies/.venv/lib/python3.11/site-packages/plotly/io/_renderers.py:425\u001b[0m, in \u001b[0;36mshow\u001b[0;34m(fig, renderer, validate, **kwargs)\u001b[0m\n\u001b[1;32m    420\u001b[0m     \u001b[38;5;28;01mraise\u001b[39;00m \u001b[38;5;167;01mValueError\u001b[39;00m(\n\u001b[1;32m    421\u001b[0m         \u001b[38;5;124m\"\u001b[39m\u001b[38;5;124mMime type rendering requires ipython but it is not installed\u001b[39m\u001b[38;5;124m\"\u001b[39m\n\u001b[1;32m    422\u001b[0m     )\n\u001b[1;32m    424\u001b[0m \u001b[38;5;28;01mif\u001b[39;00m \u001b[38;5;129;01mnot\u001b[39;00m nbformat \u001b[38;5;129;01mor\u001b[39;00m Version(nbformat\u001b[38;5;241m.\u001b[39m__version__) \u001b[38;5;241m<\u001b[39m Version(\u001b[38;5;124m\"\u001b[39m\u001b[38;5;124m4.2.0\u001b[39m\u001b[38;5;124m\"\u001b[39m):\n\u001b[0;32m--> 425\u001b[0m     \u001b[38;5;28;01mraise\u001b[39;00m \u001b[38;5;167;01mValueError\u001b[39;00m(\n\u001b[1;32m    426\u001b[0m         \u001b[38;5;124m\"\u001b[39m\u001b[38;5;124mMime type rendering requires nbformat>=4.2.0 but it is not installed\u001b[39m\u001b[38;5;124m\"\u001b[39m\n\u001b[1;32m    427\u001b[0m     )\n\u001b[1;32m    429\u001b[0m display_jupyter_version_warnings()\n\u001b[1;32m    431\u001b[0m ipython_display\u001b[38;5;241m.\u001b[39mdisplay(bundle, raw\u001b[38;5;241m=\u001b[39m\u001b[38;5;28;01mTrue\u001b[39;00m)\n",
      "\u001b[0;31mValueError\u001b[0m: Mime type rendering requires nbformat>=4.2.0 but it is not installed"
     ]
    }
   ],
   "source": [
    "import plotly.express as px\n",
    "import pandas as pd\n",
    "import numpy as np\n",
    "\n",
    "# Criar um DataFrame de exemplo\n",
    "np.random.seed(42)\n",
    "df = pd.DataFrame({\n",
    "    \"X\": np.random.randint(10, 100, 50),\n",
    "    \"Y\": np.random.randint(10, 100, 50),\n",
    "    \"Categoria\": np.random.choice([\"A\", \"B\", \"C\", \"D\"], 50)\n",
    "})\n",
    "\n",
    "# Calcular as médias para definir os quadrantes\n",
    "mean_x = df[\"X\"].mean()\n",
    "mean_y = df[\"Y\"].mean()\n",
    "\n",
    "# Criar o gráfico de dispersão\n",
    "fig = px.scatter(df, x=\"X\", y=\"Y\", color=\"Categoria\", title=\"Gráfico de Quadrantes\",\n",
    "                 labels={\"X\": \"Métrica X\", \"Y\": \"Métrica Y\"}, template=\"plotly_white\")\n",
    "\n",
    "# Adicionar linhas dos quadrantes (médias)\n",
    "fig.add_shape(type=\"line\", x0=mean_x, x1=mean_x, y0=df[\"Y\"].min(), y1=df[\"Y\"].max(),\n",
    "              line=dict(color=\"red\", width=2, dash=\"dash\"))\n",
    "fig.add_shape(type=\"line\", x0=df[\"X\"].min(), x1=df[\"X\"].max(), y0=mean_y, y1=mean_y,\n",
    "              line=dict(color=\"red\", width=2, dash=\"dash\"))\n",
    "\n",
    "# Adicionar anotações para os quadrantes\n",
    "fig.add_annotation(x=mean_x + 10, y=mean_y + 10, text=\"Quadrante 1\", showarrow=False, font_size=12, font_color=\"black\")\n",
    "fig.add_annotation(x=mean_x - 20, y=mean_y + 10, text=\"Quadrante 2\", showarrow=False, font_size=12, font_color=\"black\")\n",
    "fig.add_annotation(x=mean_x - 20, y=mean_y - 20, text=\"Quadrante 3\", showarrow=False, font_size=12, font_color=\"black\")\n",
    "fig.add_annotation(x=mean_x + 10, y=mean_y - 20, text=\"Quadrante 4\", showarrow=False, font_size=12, font_color=\"black\")\n",
    "\n",
    "# Exibir o gráfico\n",
    "fig.show()\n"
   ]
  }
 ],
 "metadata": {
  "kernelspec": {
   "display_name": ".venv",
   "language": "python",
   "name": "python3"
  },
  "language_info": {
   "codemirror_mode": {
    "name": "ipython",
    "version": 3
   },
   "file_extension": ".py",
   "mimetype": "text/x-python",
   "name": "python",
   "nbconvert_exporter": "python",
   "pygments_lexer": "ipython3",
   "version": "3.11.11"
  }
 },
 "nbformat": 4,
 "nbformat_minor": 2
}
