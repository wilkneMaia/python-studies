{
 "cells": [
  {
   "cell_type": "code",
   "execution_count": 12,
   "metadata": {},
   "outputs": [],
   "source": [
    "import pandas as pd\n",
    "import glob\n",
    "import os"
   ]
  },
  {
   "cell_type": "code",
   "execution_count": 13,
   "metadata": {},
   "outputs": [
    {
     "name": "stdout",
     "output_type": "stream",
     "text": [
      "files/energy_ microinversores\n"
     ]
    }
   ],
   "source": [
    "# Definir o caminho da pasta onde os arquivos CSV estão localizados\n",
    "caminho = os.path.join(\"files\", \"energy_ microinversores\")\n",
    "print(caminho)"
   ]
  },
  {
   "cell_type": "code",
   "execution_count": 14,
   "metadata": {},
   "outputs": [],
   "source": [
    "# Função para obter todos os arquivos CSV na pasta\n",
    "def obter_arquivos_csv(caminho):\n",
    "    \"\"\"Retorna uma lista de caminhos dos arquivos CSV no diretório especificado.\"\"\"\n",
    "    arquivos = glob.glob(os.path.join(caminho, '*.csv'))\n",
    "    if not arquivos:\n",
    "        print(\"Nenhum arquivo CSV encontrado.\")\n",
    "    return arquivos"
   ]
  },
  {
   "cell_type": "code",
   "execution_count": 15,
   "metadata": {},
   "outputs": [],
   "source": [
    "# Função para ler e processar os arquivos CSV\n",
    "def ler_arquivos_csv(arquivos_csv):\n",
    "    \"\"\"Lê todos os arquivos CSV e retorna uma lista de DataFrames.\"\"\"\n",
    "    lista = []\n",
    "    for arquivo in arquivos_csv:\n",
    "        try:\n",
    "            df = pd.read_csv(arquivo, index_col=None, header=0, low_memory=False, parse_dates=['Date'])\n",
    "            lista.append(df)\n",
    "        except Exception as e:\n",
    "            print(f\"Erro ao ler {arquivo}: {e}\")\n",
    "    return lista"
   ]
  },
  {
   "cell_type": "code",
   "execution_count": 16,
   "metadata": {},
   "outputs": [],
   "source": [
    "# Função para concatenar os DataFrames\n",
    "def concatenar_dataframes(lista):\n",
    "    \"\"\"Concatena todos os DataFrames em um único DataFrame.\"\"\"\n",
    "    if not lista:\n",
    "        print('Nenhum dado para concatenar.')\n",
    "        return None\n",
    "    return pd.concat(lista, ignore_index=True)"
   ]
  },
  {
   "cell_type": "code",
   "execution_count": 17,
   "metadata": {},
   "outputs": [],
   "source": [
    "# Função para criar uma nova coluna contendo o nome do microinversor baseado no SN\n",
    "def adicionar_id_e_nome_microinversor(df):\n",
    "    \"\"\"\n",
    "    Adiciona uma coluna 'ID' no início do DataFrame e uma coluna 'Microinversor' baseada na coluna 'SN'.\n",
    "    Associa cada SN a um nome de microinversor único.\n",
    "    \"\"\"\n",
    "    # Adicionar a coluna 'ID' com valores sequenciais\n",
    "    df.insert(0, 'ID', range(1, len(df) + 1))\n",
    "\n",
    "    if 'SN' not in df.columns and 'Sn' in df.columns:\n",
    "        df.rename(columns={'Sn': 'SN'}, inplace=True)\n",
    "\n",
    "    if 'SN' not in df.columns:\n",
    "        print(\"Erro: A coluna 'SN' não foi encontrada no arquivo.\")\n",
    "        return df\n",
    "\n",
    "    # Criar um dicionário associando os SNs a nomes de microinversores\n",
    "    microinversores_dict = {sn: f\"Microinversor_{idx+1}\" for idx, sn in enumerate(df['SN'].unique())}\n",
    "\n",
    "    # Mapear a coluna SN para os nomes dos microinversores\n",
    "    df['Microinversor'] = df['SN'].map(microinversores_dict)\n",
    "\n",
    "    return df"
   ]
  },
  {
   "cell_type": "code",
   "execution_count": 19,
   "metadata": {},
   "outputs": [],
   "source": [
    "# Função para salvar o DataFrame atualizado\n",
    "def salvar_dataframe(df_final, caminho_novo_arquivo):\n",
    "    \"\"\"Salva o DataFrame atualizado em um arquivo CSV.\"\"\"\n",
    "    try:\n",
    "        df_final.to_csv(caminho_novo_arquivo, index=False)\n",
    "        print(f\"Arquivo salvo com sucesso: {caminho_novo_arquivo}\")\n",
    "    except Exception as e:\n",
    "        print(f\"Erro ao salvar o arquivo: {e}\")\n",
    "\n",
    "# Função principal\n",
    "def main():\n",
    "    caminho_novo_arquivo = os.path.join(caminho, 'arquivo.csv')\n",
    "\n",
    "    arquivos_csv = obter_arquivos_csv(caminho)\n",
    "    if not arquivos_csv:\n",
    "        return  # Encerra o script se não houver arquivos\n",
    "\n",
    "    lista = ler_arquivos_csv(arquivos_csv)\n",
    "    df_novo = concatenar_dataframes(lista)\n",
    "\n",
    "    if df_novo is not None:\n",
    "        df_novo = adicionar_id_e_nome_microinversor(df_novo)\n",
    "        display(df_novo.head())\n",
    "        salvar_dataframe(df_novo, caminho_novo_arquivo)"
   ]
  },
  {
   "cell_type": "code",
   "execution_count": 20,
   "metadata": {},
   "outputs": [
    {
     "data": {
      "text/html": [
       "<div>\n",
       "<style scoped>\n",
       "    .dataframe tbody tr th:only-of-type {\n",
       "        vertical-align: middle;\n",
       "    }\n",
       "\n",
       "    .dataframe tbody tr th {\n",
       "        vertical-align: top;\n",
       "    }\n",
       "\n",
       "    .dataframe thead th {\n",
       "        text-align: right;\n",
       "    }\n",
       "</style>\n",
       "<table border=\"1\" class=\"dataframe\">\n",
       "  <thead>\n",
       "    <tr style=\"text-align: right;\">\n",
       "      <th></th>\n",
       "      <th>ID</th>\n",
       "      <th>Plant Name</th>\n",
       "      <th>Date</th>\n",
       "      <th>SN</th>\n",
       "      <th>Port</th>\n",
       "      <th>Energy (kWh)</th>\n",
       "      <th>Microinversor</th>\n",
       "    </tr>\n",
       "  </thead>\n",
       "  <tbody>\n",
       "    <tr>\n",
       "      <th>0</th>\n",
       "      <td>1</td>\n",
       "      <td>Wilkne</td>\n",
       "      <td>2024-11-27</td>\n",
       "      <td>106272403152</td>\n",
       "      <td>1</td>\n",
       "      <td>2.131</td>\n",
       "      <td>Microinversor_1</td>\n",
       "    </tr>\n",
       "    <tr>\n",
       "      <th>1</th>\n",
       "      <td>2</td>\n",
       "      <td>Wilkne</td>\n",
       "      <td>2024-11-27</td>\n",
       "      <td>106272403152</td>\n",
       "      <td>2</td>\n",
       "      <td>2.109</td>\n",
       "      <td>Microinversor_1</td>\n",
       "    </tr>\n",
       "    <tr>\n",
       "      <th>2</th>\n",
       "      <td>3</td>\n",
       "      <td>Wilkne</td>\n",
       "      <td>2024-11-27</td>\n",
       "      <td>106272403152</td>\n",
       "      <td>3</td>\n",
       "      <td>2.105</td>\n",
       "      <td>Microinversor_1</td>\n",
       "    </tr>\n",
       "    <tr>\n",
       "      <th>3</th>\n",
       "      <td>4</td>\n",
       "      <td>Wilkne</td>\n",
       "      <td>2024-11-27</td>\n",
       "      <td>106272403152</td>\n",
       "      <td>4</td>\n",
       "      <td>2.152</td>\n",
       "      <td>Microinversor_1</td>\n",
       "    </tr>\n",
       "    <tr>\n",
       "      <th>4</th>\n",
       "      <td>5</td>\n",
       "      <td>Wilkne</td>\n",
       "      <td>2024-11-27</td>\n",
       "      <td>106272403916</td>\n",
       "      <td>1</td>\n",
       "      <td>2.098</td>\n",
       "      <td>Microinversor_2</td>\n",
       "    </tr>\n",
       "  </tbody>\n",
       "</table>\n",
       "</div>"
      ],
      "text/plain": [
       "   ID Plant Name       Date            SN  Port  Energy (kWh)    Microinversor\n",
       "0   1     Wilkne 2024-11-27  106272403152     1         2.131  Microinversor_1\n",
       "1   2     Wilkne 2024-11-27  106272403152     2         2.109  Microinversor_1\n",
       "2   3     Wilkne 2024-11-27  106272403152     3         2.105  Microinversor_1\n",
       "3   4     Wilkne 2024-11-27  106272403152     4         2.152  Microinversor_1\n",
       "4   5     Wilkne 2024-11-27  106272403916     1         2.098  Microinversor_2"
      ]
     },
     "metadata": {},
     "output_type": "display_data"
    },
    {
     "name": "stdout",
     "output_type": "stream",
     "text": [
      "Arquivo salvo com sucesso: files/energy_ microinversores/arquivo.csv\n"
     ]
    }
   ],
   "source": [
    "if __name__ == \"__main__\":\n",
    "    main()"
   ]
  },
  {
   "cell_type": "code",
   "execution_count": 21,
   "metadata": {},
   "outputs": [
    {
     "data": {
      "text/html": [
       "<div>\n",
       "<style scoped>\n",
       "    .dataframe tbody tr th:only-of-type {\n",
       "        vertical-align: middle;\n",
       "    }\n",
       "\n",
       "    .dataframe tbody tr th {\n",
       "        vertical-align: top;\n",
       "    }\n",
       "\n",
       "    .dataframe thead th {\n",
       "        text-align: right;\n",
       "    }\n",
       "</style>\n",
       "<table border=\"1\" class=\"dataframe\">\n",
       "  <thead>\n",
       "    <tr style=\"text-align: right;\">\n",
       "      <th></th>\n",
       "      <th>ID</th>\n",
       "      <th>Plant Name</th>\n",
       "      <th>Date</th>\n",
       "      <th>SN</th>\n",
       "      <th>Port</th>\n",
       "      <th>Energy (kWh)</th>\n",
       "      <th>Microinversor</th>\n",
       "    </tr>\n",
       "  </thead>\n",
       "  <tbody>\n",
       "    <tr>\n",
       "      <th>0</th>\n",
       "      <td>1</td>\n",
       "      <td>Wilkne</td>\n",
       "      <td>2024-11-27</td>\n",
       "      <td>106272403152</td>\n",
       "      <td>1</td>\n",
       "      <td>2.131</td>\n",
       "      <td>Microinversor_1</td>\n",
       "    </tr>\n",
       "    <tr>\n",
       "      <th>1</th>\n",
       "      <td>2</td>\n",
       "      <td>Wilkne</td>\n",
       "      <td>2024-11-27</td>\n",
       "      <td>106272403152</td>\n",
       "      <td>2</td>\n",
       "      <td>2.109</td>\n",
       "      <td>Microinversor_1</td>\n",
       "    </tr>\n",
       "    <tr>\n",
       "      <th>2</th>\n",
       "      <td>3</td>\n",
       "      <td>Wilkne</td>\n",
       "      <td>2024-11-27</td>\n",
       "      <td>106272403152</td>\n",
       "      <td>3</td>\n",
       "      <td>2.105</td>\n",
       "      <td>Microinversor_1</td>\n",
       "    </tr>\n",
       "    <tr>\n",
       "      <th>3</th>\n",
       "      <td>4</td>\n",
       "      <td>Wilkne</td>\n",
       "      <td>2024-11-27</td>\n",
       "      <td>106272403152</td>\n",
       "      <td>4</td>\n",
       "      <td>2.152</td>\n",
       "      <td>Microinversor_1</td>\n",
       "    </tr>\n",
       "    <tr>\n",
       "      <th>4</th>\n",
       "      <td>5</td>\n",
       "      <td>Wilkne</td>\n",
       "      <td>2024-11-27</td>\n",
       "      <td>106272403916</td>\n",
       "      <td>1</td>\n",
       "      <td>2.098</td>\n",
       "      <td>Microinversor_2</td>\n",
       "    </tr>\n",
       "  </tbody>\n",
       "</table>\n",
       "</div>"
      ],
      "text/plain": [
       "   ID Plant Name        Date            SN  Port  Energy (kWh)  \\\n",
       "0   1     Wilkne  2024-11-27  106272403152     1         2.131   \n",
       "1   2     Wilkne  2024-11-27  106272403152     2         2.109   \n",
       "2   3     Wilkne  2024-11-27  106272403152     3         2.105   \n",
       "3   4     Wilkne  2024-11-27  106272403152     4         2.152   \n",
       "4   5     Wilkne  2024-11-27  106272403916     1         2.098   \n",
       "\n",
       "     Microinversor  \n",
       "0  Microinversor_1  \n",
       "1  Microinversor_1  \n",
       "2  Microinversor_1  \n",
       "3  Microinversor_1  \n",
       "4  Microinversor_2  "
      ]
     },
     "execution_count": 21,
     "metadata": {},
     "output_type": "execute_result"
    }
   ],
   "source": [
    "#TODO: Função temporaria\n",
    "df_temp = pd.read_csv(os.path.join(caminho, 'arquivo.csv'))\n",
    "df_temp.head()"
   ]
  },
  {
   "cell_type": "code",
   "execution_count": 22,
   "metadata": {},
   "outputs": [
    {
     "name": "stdout",
     "output_type": "stream",
     "text": [
      "[106272403152 106272403916 106272404964 116191966583]\n"
     ]
    }
   ],
   "source": [
    "valores_unicos = df_temp['SN'].unique()\n",
    "\n",
    "print(valores_unicos)"
   ]
  },
  {
   "cell_type": "code",
   "execution_count": 23,
   "metadata": {},
   "outputs": [
    {
     "name": "stdout",
     "output_type": "stream",
     "text": [
      "[106272403152 106272403916 116191966583]\n"
     ]
    }
   ],
   "source": [
    "# Substituir os valores na coluna 'SN'\n",
    "df_temp['SN'] = df_temp['SN'].replace(106272404964, 116191966583)\n",
    "\n",
    "# Verificar se a substituição foi feita corretamente\n",
    "print(df_temp['SN'].unique())"
   ]
  },
  {
   "cell_type": "code",
   "execution_count": 24,
   "metadata": {},
   "outputs": [
    {
     "name": "stdout",
     "output_type": "stream",
     "text": [
      "SN\n",
      "106272403152    4816\n",
      "106272403916    4816\n",
      "116191966583    4816\n",
      "Name: count, dtype: int64\n"
     ]
    }
   ],
   "source": [
    "# Contar a frequência dos valores na coluna 'SN'\n",
    "frequencia_valores = df_temp['SN'].value_counts()\n",
    "\n",
    "print(frequencia_valores)"
   ]
  }
 ],
 "metadata": {
  "kernelspec": {
   "display_name": ".venv",
   "language": "python",
   "name": "python3"
  },
  "language_info": {
   "codemirror_mode": {
    "name": "ipython",
    "version": 3
   },
   "file_extension": ".py",
   "mimetype": "text/x-python",
   "name": "python",
   "nbconvert_exporter": "python",
   "pygments_lexer": "ipython3",
   "version": "3.11.11"
  }
 },
 "nbformat": 4,
 "nbformat_minor": 2
}
