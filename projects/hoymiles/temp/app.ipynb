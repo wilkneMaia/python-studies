{
 "cells": [
  {
   "cell_type": "markdown",
   "id": "211d9428",
   "metadata": {},
   "source": [
    "# 📊 Dashboard de Geração de Energia\n",
    "Este notebook utiliza **Streamlit** e **Plotly** para criar um dashboard interativo."
   ]
  },
  {
   "cell_type": "code",
   "execution_count": 1,
   "id": "f76169b0",
   "metadata": {},
   "outputs": [],
   "source": [
    "import streamlit as st\n",
    "import pandas as pd\n",
    "import plotly.express as px"
   ]
  },
  {
   "cell_type": "markdown",
   "id": "f8026308",
   "metadata": {},
   "source": [
    "## 🔧 Configuração da Página"
   ]
  },
  {
   "cell_type": "code",
   "execution_count": 2,
   "id": "2c2beff5",
   "metadata": {},
   "outputs": [
    {
     "name": "stderr",
     "output_type": "stream",
     "text": [
      "2025-02-22 11:20:00.741 WARNING streamlit.runtime.scriptrunner_utils.script_run_context: Thread 'MainThread': missing ScriptRunContext! This warning can be ignored when running in bare mode.\n"
     ]
    }
   ],
   "source": [
    "st.set_page_config(page_title=\"Dashboard de Energia\", layout=\"wide\")"
   ]
  },
  {
   "cell_type": "markdown",
   "id": "ce173526",
   "metadata": {},
   "source": [
    "## 📂 Upload do Arquivo CSV"
   ]
  },
  {
   "cell_type": "code",
   "execution_count": 3,
   "id": "bf274952",
   "metadata": {},
   "outputs": [
    {
     "name": "stderr",
     "output_type": "stream",
     "text": [
      "2025-02-22 11:20:04.312 WARNING streamlit.runtime.scriptrunner_utils.script_run_context: Thread 'MainThread': missing ScriptRunContext! This warning can be ignored when running in bare mode.\n",
      "2025-02-22 11:20:04.312 WARNING streamlit.runtime.scriptrunner_utils.script_run_context: Thread 'MainThread': missing ScriptRunContext! This warning can be ignored when running in bare mode.\n",
      "2025-02-22 11:20:04.313 WARNING streamlit.runtime.scriptrunner_utils.script_run_context: Thread 'MainThread': missing ScriptRunContext! This warning can be ignored when running in bare mode.\n",
      "2025-02-22 11:20:04.317 Thread 'MainThread': missing ScriptRunContext! This warning can be ignored when running in bare mode.\n",
      "2025-02-22 11:20:04.522 \n",
      "  \u001b[33m\u001b[1mWarning:\u001b[0m to view this Streamlit app on a browser, run it with the following\n",
      "  command:\n",
      "\n",
      "    streamlit run /Users/wilkne/Development/studies/python-studies/.venv/lib/python3.11/site-packages/ipykernel_launcher.py [ARGUMENTS]\n",
      "2025-02-22 11:20:04.523 Thread 'MainThread': missing ScriptRunContext! This warning can be ignored when running in bare mode.\n"
     ]
    }
   ],
   "source": [
    "uploaded_file = st.file_uploader(\"Faça upload do arquivo CSV\", type=[\"csv\"])"
   ]
  },
  {
   "cell_type": "markdown",
   "id": "a0dd1eac",
   "metadata": {},
   "source": [
    "## 📊 Processamento dos Dados"
   ]
  },
  {
   "cell_type": "code",
   "execution_count": 6,
   "id": "36f867f6",
   "metadata": {},
   "outputs": [],
   "source": [
    "\n",
    "if uploaded_file:\n",
    "    df = pd.read_csv(uploaded_file)\n",
    "    df[\"Date\"] = pd.to_datetime(df[\"Date\"])  # Converter para data\n",
    "    microinversores = df[\"Microinversor\"].unique()\n",
    "    micro_selected = st.selectbox(\"Selecione um Microinversor:\", microinversores)\n",
    "    df_filtered = df[df[\"Microinversor\"] == micro_selected]\n",
    "    fig = px.line(\n",
    "        df_filtered,\n",
    "        x=\"Date\",\n",
    "        y=\"Energy (kWh)\",\n",
    "        title=f\"Geração de Energia - {micro_selected}\",\n",
    "        markers=True,\n",
    "        labels={\"Energy (kWh)\": \"Energia (kWh)\", \"Date\": \"Data\"},\n",
    "    )\n",
    "    st.plotly_chart(fig, use_container_width=True)\n",
    "    st.subheader(\"📋 Dados Filtrados\")\n",
    "    st.dataframe(df_filtered)\n"
   ]
  }
 ],
 "metadata": {
  "kernelspec": {
   "display_name": ".venv",
   "language": "python",
   "name": "python3"
  },
  "language_info": {
   "codemirror_mode": {
    "name": "ipython",
    "version": 3
   },
   "file_extension": ".py",
   "mimetype": "text/x-python",
   "name": "python",
   "nbconvert_exporter": "python",
   "pygments_lexer": "ipython3",
   "version": "3.11.11"
  }
 },
 "nbformat": 4,
 "nbformat_minor": 5
}
