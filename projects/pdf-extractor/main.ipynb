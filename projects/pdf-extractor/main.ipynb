{
 "cells": [
  {
   "cell_type": "code",
   "execution_count": null,
   "metadata": {},
   "outputs": [],
   "source": [
    "import pandas as pd\n",
    "import glob\n",
    "import os"
   ]
  },
  {
   "cell_type": "code",
   "execution_count": null,
   "metadata": {},
   "outputs": [],
   "source": [
    "# Definir o caminho da pasta onde os arquivos CSV estão localizados\n",
    "caminho = os.path.join(\"files\", \"csv_2\", \"microinversores\")\n",
    "print(caminho)"
   ]
  },
  {
   "cell_type": "code",
   "execution_count": null,
   "metadata": {},
   "outputs": [],
   "source": [
    "# Função para obter todos os arquivos CSV na pasta\n",
    "def obter_arquivos_csv(caminho):\n",
    "    \"\"\"Retorna uma lista de caminhos dos arquivos CSV no diretório especificado.\"\"\"\n",
    "    arquivos = glob.glob(os.path.join(caminho, '*.csv'))\n",
    "    if not arquivos:\n",
    "        print(\"Nenhum arquivo CSV encontrado.\")\n",
    "    return arquivos"
   ]
  },
  {
   "cell_type": "code",
   "execution_count": null,
   "metadata": {},
   "outputs": [],
   "source": [
    "# Função para ler e processar os arquivos CSV\n",
    "def ler_arquivos_csv(arquivos_csv):\n",
    "    \"\"\"Lê todos os arquivos CSV e retorna uma lista de DataFrames.\"\"\"\n",
    "    lista = []\n",
    "    for arquivo in arquivos_csv:\n",
    "        try:\n",
    "            df = pd.read_csv(arquivo, index_col=None, header=0, low_memory=False, parse_dates=['Date'])\n",
    "            lista.append(df)\n",
    "        except Exception as e:\n",
    "            print(f\"Erro ao ler {arquivo}: {e}\")\n",
    "    return lista"
   ]
  },
  {
   "cell_type": "code",
   "execution_count": null,
   "metadata": {},
   "outputs": [],
   "source": [
    "# Função para concatenar os DataFrames\n",
    "def concatenar_dataframes(lista):\n",
    "    \"\"\"Concatena todos os DataFrames em um único DataFrame.\"\"\"\n",
    "    if not lista:\n",
    "        print('Nenhum dado para concatenar.')\n",
    "        return None\n",
    "    return pd.concat(lista, ignore_index=True)"
   ]
  },
  {
   "cell_type": "code",
   "execution_count": null,
   "metadata": {},
   "outputs": [],
   "source": [
    "# Função para criar uma nova coluna contendo o nome do microinversor baseado no SN\n",
    "def adicionar_nome_microinversor(df):\n",
    "    \"\"\"\n",
    "    Adiciona uma coluna 'Microinversor' baseada na coluna 'SN'.\n",
    "    Associa cada SN a um nome de microinversor único.\n",
    "    \"\"\"\n",
    "    if 'SN' not in df.columns and 'Sn' in df.columns:\n",
    "        df.rename(columns={'Sn': 'SN'}, inplace=True)\n",
    "\n",
    "    if 'SN' not in df.columns:\n",
    "        print(\"Erro: A coluna 'SN' não foi encontrada no arquivo.\")\n",
    "        return df\n",
    "\n",
    "    # Criar um dicionário associando os SNs a nomes de microinversores\n",
    "    microinversores_dict = {sn: f\"Microinversor_{idx+1}\" for idx, sn in enumerate(df['SN'].unique())}\n",
    "\n",
    "    # Mapear a coluna SN para os nomes dos microinversores\n",
    "    df['Microinversor'] = df['SN'].map(microinversores_dict)\n",
    "\n",
    "    return df"
   ]
  },
  {
   "cell_type": "code",
   "execution_count": null,
   "metadata": {},
   "outputs": [],
   "source": [
    "# Função para salvar o DataFrame atualizado\n",
    "def salvar_dataframe(df_final, caminho_novo_arquivo):\n",
    "    \"\"\"Salva o DataFrame atualizado em um arquivo CSV.\"\"\"\n",
    "    try:\n",
    "        df_final.to_csv(caminho_novo_arquivo, index=False)\n",
    "        print(f\"Arquivo salvo com sucesso: {caminho_novo_arquivo}\")\n",
    "    except Exception as e:\n",
    "        print(f\"Erro ao salvar o arquivo: {e}\")\n",
    "\n",
    "# Função principal\n",
    "def main():\n",
    "    caminho_novo_arquivo = os.path.join(caminho, 'arquivo.csv')\n",
    "\n",
    "    arquivos_csv = obter_arquivos_csv(caminho)\n",
    "    if not arquivos_csv:\n",
    "        return  # Encerra o script se não houver arquivos\n",
    "\n",
    "    lista = ler_arquivos_csv(arquivos_csv)\n",
    "    df_novo = concatenar_dataframes(lista)\n",
    "\n",
    "    if df_novo is not None:\n",
    "        df_novo = adicionar_nome_microinversor(df_novo)\n",
    "        display(df_novo)\n",
    "        salvar_dataframe(df_novo, caminho_novo_arquivo)"
   ]
  },
  {
   "cell_type": "code",
   "execution_count": null,
   "metadata": {},
   "outputs": [],
   "source": [
    "if __name__ == \"__main__\":\n",
    "    main()"
   ]
  }
 ],
 "metadata": {
  "kernelspec": {
   "display_name": ".venv",
   "language": "python",
   "name": "python3"
  },
  "language_info": {
   "codemirror_mode": {
    "name": "ipython",
    "version": 3
   },
   "file_extension": ".py",
   "mimetype": "text/x-python",
   "name": "python",
   "nbconvert_exporter": "python",
   "pygments_lexer": "ipython3",
   "version": "3.11.11"
  }
 },
 "nbformat": 4,
 "nbformat_minor": 2
}
