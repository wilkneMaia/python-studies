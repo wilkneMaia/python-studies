{
 "cells": [
  {
   "cell_type": "code",
   "execution_count": null,
   "metadata": {},
   "outputs": [],
   "source": [
    "# instalar Parquet, Pandas e Pyarrow\n",
    "%!pip install parquet\n",
    "%!pip install pandas\n",
    "%!pip install pyarrow"
   ]
  },
  {
   "cell_type": "code",
   "execution_count": 4,
   "metadata": {},
   "outputs": [],
   "source": [
    "# importar os pacotes necessários\n",
    "import pandas as pd"
   ]
  },
  {
   "cell_type": "code",
   "execution_count": 5,
   "metadata": {},
   "outputs": [
    {
     "name": "stdout",
     "output_type": "stream",
     "text": [
      "\n",
      "DataFrame lido do arquivo 'databases/csv/PFW_2021_public.csv':\n",
      "\n",
      "DataFrame salvo em 'dataset/PFW_2021_public.parquet':\n"
     ]
    }
   ],
   "source": [
    "# importar os dados do arquivo csv para um DataFrame no Pandas\n",
    "df = pd.read_csv('../../databases/csv/PFW_2021_public.csv')\n",
    "print(\"\\nDataFrame lido do arquivo 'databases/csv/PFW_2021_public.csv':\")\n",
    "\n",
    "# importar os dados do DataFrame e salva em um arquivo Parquet\n",
    "df_parquet = df.to_parquet('dataset/PFW_2021_public.parquet')\n",
    "print(\"\\nDataFrame salvo em 'dataset/PFW_2021_public.parquet':\")"
   ]
  },
  {
   "cell_type": "code",
   "execution_count": null,
   "metadata": {},
   "outputs": [],
   "source": [
    "# ler os dados do arquivo Parquet\n",
    "df = pd.read_parquet('dataset/titanic.parquet')\n",
    "print(\"\\nDataFrame lido do arquivo Parquet 'dataset/titanic.parquet':\")\n",
    "df.head(5)"
   ]
  }
 ],
 "metadata": {
  "kernelspec": {
   "display_name": ".venv",
   "language": "python",
   "name": "python3"
  },
  "language_info": {
   "codemirror_mode": {
    "name": "ipython",
    "version": 3
   },
   "file_extension": ".py",
   "mimetype": "text/x-python",
   "name": "python",
   "nbconvert_exporter": "python",
   "pygments_lexer": "ipython3",
   "version": "3.13.1"
  }
 },
 "nbformat": 4,
 "nbformat_minor": 2
}
